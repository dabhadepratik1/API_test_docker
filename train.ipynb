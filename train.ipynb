{
 "cells": [
  {
   "cell_type": "code",
   "execution_count": 1,
   "metadata": {
    "id": "ZeZgMaNyP-qr"
   },
   "outputs": [],
   "source": [
    "#import lib\n",
    "import matplotlib.pyplot as plt\n",
    "from sklearn.metrics import accuracy_score\n",
    "import tensorflow\n",
    "from tensorflow import keras\n",
    "from tensorflow.keras import Sequential\n",
    "from tensorflow.keras.layers import Dense,Flatten"
   ]
  },
  {
   "cell_type": "code",
   "execution_count": 2,
   "metadata": {
    "id": "WYi84O3xQIWZ"
   },
   "outputs": [
    {
     "name": "stdout",
     "output_type": "stream",
     "text": [
      "Downloading data from https://storage.googleapis.com/tensorflow/tf-keras-datasets/mnist.npz\n",
      "11490434/11490434 [==============================] - 3s 0us/step\n"
     ]
    }
   ],
   "source": [
    "#load Data set\n",
    "(X_train,y_train),(X_test,y_test) = keras.datasets.mnist.load_data()"
   ]
  },
  {
   "cell_type": "code",
   "execution_count": 3,
   "metadata": {
    "colab": {
     "base_uri": "https://localhost:8080/"
    },
    "id": "9tiS--ljQLHw",
    "outputId": "7701b56c-2f43-41c1-9a63-3d7265965e87"
   },
   "outputs": [
    {
     "data": {
      "text/plain": [
       "(60000, 28, 28)"
      ]
     },
     "execution_count": 3,
     "metadata": {},
     "output_type": "execute_result"
    }
   ],
   "source": [
    "X_train.shape"
   ]
  },
  {
   "cell_type": "code",
   "execution_count": 4,
   "metadata": {
    "colab": {
     "base_uri": "https://localhost:8080/"
    },
    "id": "W7GZj2IfQMz7",
    "outputId": "2b306654-9e0e-43e2-9ae2-053c66a0989e"
   },
   "outputs": [
    {
     "data": {
      "text/plain": [
       "(60000,)"
      ]
     },
     "execution_count": 4,
     "metadata": {},
     "output_type": "execute_result"
    }
   ],
   "source": [
    "y_train.shape"
   ]
  },
  {
   "cell_type": "code",
   "execution_count": 5,
   "metadata": {
    "id": "3ViuNkj6QkE9"
   },
   "outputs": [],
   "source": [
    "# normalize the X_train and X_test\n",
    "X_train = X_train/255\n",
    "X_test = X_test/255"
   ]
  },
  {
   "cell_type": "code",
   "execution_count": 6,
   "metadata": {
    "id": "6X_xGJkDRL_y"
   },
   "outputs": [],
   "source": [
    "# Create sequential model\n",
    "model = Sequential()\n",
    "\n",
    "# add flatten layer\n",
    "model.add(Flatten(input_shape=(28,28)))\n",
    "\n",
    "# Hidden layers\n",
    "model.add(Dense(128,activation='relu'))\n",
    "model.add(Dense(32,activation='relu'))\n",
    "\n",
    "#Output layer\n",
    "model.add(Dense(10,activation='softmax'))"
   ]
  },
  {
   "cell_type": "code",
   "execution_count": 7,
   "metadata": {
    "colab": {
     "base_uri": "https://localhost:8080/"
    },
    "id": "d2RKemnhRQJ5",
    "outputId": "7446c0d9-a311-4bb7-f19c-9a13faa217e2"
   },
   "outputs": [
    {
     "name": "stdout",
     "output_type": "stream",
     "text": [
      "Model: \"sequential\"\n",
      "_________________________________________________________________\n",
      " Layer (type)                Output Shape              Param #   \n",
      "=================================================================\n",
      " flatten (Flatten)           (None, 784)               0         \n",
      "                                                                 \n",
      " dense (Dense)               (None, 128)               100480    \n",
      "                                                                 \n",
      " dense_1 (Dense)             (None, 32)                4128      \n",
      "                                                                 \n",
      " dense_2 (Dense)             (None, 10)                330       \n",
      "                                                                 \n",
      "=================================================================\n",
      "Total params: 104,938\n",
      "Trainable params: 104,938\n",
      "Non-trainable params: 0\n",
      "_________________________________________________________________\n"
     ]
    }
   ],
   "source": [
    "model.summary()"
   ]
  },
  {
   "cell_type": "code",
   "execution_count": 8,
   "metadata": {
    "id": "5KEfxIBARRjS"
   },
   "outputs": [],
   "source": [
    "# model compilation\n",
    "model.compile(loss='sparse_categorical_crossentropy',optimizer='Adam',metrics=['accuracy'])"
   ]
  },
  {
   "cell_type": "code",
   "execution_count": 9,
   "metadata": {
    "colab": {
     "base_uri": "https://localhost:8080/"
    },
    "id": "XWncCValRTHJ",
    "outputId": "83dc4f74-b650-4cd1-b6f8-894aabc62dac"
   },
   "outputs": [
    {
     "name": "stdout",
     "output_type": "stream",
     "text": [
      "Epoch 1/30\n",
      "1313/1313 [==============================] - 13s 9ms/step - loss: 0.3015 - accuracy: 0.9137 - val_loss: 0.1667 - val_accuracy: 0.9513\n",
      "Epoch 2/30\n",
      "1313/1313 [==============================] - 9s 7ms/step - loss: 0.1240 - accuracy: 0.9627 - val_loss: 0.1256 - val_accuracy: 0.9627\n",
      "Epoch 3/30\n",
      "1313/1313 [==============================] - 10s 8ms/step - loss: 0.0868 - accuracy: 0.9735 - val_loss: 0.1112 - val_accuracy: 0.9670\n",
      "Epoch 4/30\n",
      "1313/1313 [==============================] - 11s 8ms/step - loss: 0.0628 - accuracy: 0.9809 - val_loss: 0.1098 - val_accuracy: 0.9676\n",
      "Epoch 5/30\n",
      "1313/1313 [==============================] - 9s 7ms/step - loss: 0.0510 - accuracy: 0.9842 - val_loss: 0.1058 - val_accuracy: 0.9708\n",
      "Epoch 6/30\n",
      "1313/1313 [==============================] - 9s 7ms/step - loss: 0.0403 - accuracy: 0.9874 - val_loss: 0.1423 - val_accuracy: 0.9625\n",
      "Epoch 7/30\n",
      "1313/1313 [==============================] - 9s 7ms/step - loss: 0.0309 - accuracy: 0.9899 - val_loss: 0.1051 - val_accuracy: 0.9714\n",
      "Epoch 8/30\n",
      "1313/1313 [==============================] - 12s 9ms/step - loss: 0.0283 - accuracy: 0.9908 - val_loss: 0.1156 - val_accuracy: 0.9715\n",
      "Epoch 9/30\n",
      "1313/1313 [==============================] - 9s 7ms/step - loss: 0.0219 - accuracy: 0.9930 - val_loss: 0.1260 - val_accuracy: 0.9703\n",
      "Epoch 10/30\n",
      "1313/1313 [==============================] - 8s 6ms/step - loss: 0.0207 - accuracy: 0.9932 - val_loss: 0.1309 - val_accuracy: 0.9719\n",
      "Epoch 11/30\n",
      "1313/1313 [==============================] - 9s 7ms/step - loss: 0.0185 - accuracy: 0.9943 - val_loss: 0.1403 - val_accuracy: 0.9703\n",
      "Epoch 12/30\n",
      "1313/1313 [==============================] - 8s 6ms/step - loss: 0.0144 - accuracy: 0.9955 - val_loss: 0.1318 - val_accuracy: 0.9718\n",
      "Epoch 13/30\n",
      "1313/1313 [==============================] - 11s 8ms/step - loss: 0.0149 - accuracy: 0.9950 - val_loss: 0.1287 - val_accuracy: 0.9734\n",
      "Epoch 14/30\n",
      "1313/1313 [==============================] - 9s 7ms/step - loss: 0.0131 - accuracy: 0.9954 - val_loss: 0.1311 - val_accuracy: 0.9727\n",
      "Epoch 15/30\n",
      "1313/1313 [==============================] - 10s 8ms/step - loss: 0.0119 - accuracy: 0.9964 - val_loss: 0.1725 - val_accuracy: 0.9668\n",
      "Epoch 16/30\n",
      "1313/1313 [==============================] - 9s 7ms/step - loss: 0.0111 - accuracy: 0.9960 - val_loss: 0.1494 - val_accuracy: 0.9735\n",
      "Epoch 17/30\n",
      "1313/1313 [==============================] - 9s 7ms/step - loss: 0.0131 - accuracy: 0.9956 - val_loss: 0.1561 - val_accuracy: 0.9708\n",
      "Epoch 18/30\n",
      "1313/1313 [==============================] - 9s 7ms/step - loss: 0.0093 - accuracy: 0.9970 - val_loss: 0.1532 - val_accuracy: 0.9758\n",
      "Epoch 19/30\n",
      "1313/1313 [==============================] - 9s 7ms/step - loss: 0.0087 - accuracy: 0.9968 - val_loss: 0.1616 - val_accuracy: 0.9733\n",
      "Epoch 20/30\n",
      "1313/1313 [==============================] - 9s 7ms/step - loss: 0.0103 - accuracy: 0.9966 - val_loss: 0.1735 - val_accuracy: 0.9723\n",
      "Epoch 21/30\n",
      "1313/1313 [==============================] - 8s 6ms/step - loss: 0.0099 - accuracy: 0.9967 - val_loss: 0.1599 - val_accuracy: 0.9744\n",
      "Epoch 22/30\n",
      "1313/1313 [==============================] - 10s 7ms/step - loss: 0.0067 - accuracy: 0.9979 - val_loss: 0.1696 - val_accuracy: 0.9733\n",
      "Epoch 23/30\n",
      "1313/1313 [==============================] - 8s 6ms/step - loss: 0.0102 - accuracy: 0.9968 - val_loss: 0.1661 - val_accuracy: 0.9731\n",
      "Epoch 24/30\n",
      "1313/1313 [==============================] - 10s 7ms/step - loss: 0.0072 - accuracy: 0.9978 - val_loss: 0.1906 - val_accuracy: 0.9699\n",
      "Epoch 25/30\n",
      "1313/1313 [==============================] - 9s 7ms/step - loss: 0.0048 - accuracy: 0.9988 - val_loss: 0.1819 - val_accuracy: 0.9723\n",
      "Epoch 26/30\n",
      "1313/1313 [==============================] - 9s 7ms/step - loss: 0.0107 - accuracy: 0.9963 - val_loss: 0.1808 - val_accuracy: 0.9741\n",
      "Epoch 27/30\n",
      "1313/1313 [==============================] - 10s 7ms/step - loss: 0.0077 - accuracy: 0.9977 - val_loss: 0.1773 - val_accuracy: 0.9736\n",
      "Epoch 28/30\n",
      "1313/1313 [==============================] - 9s 7ms/step - loss: 0.0055 - accuracy: 0.9983 - val_loss: 0.1724 - val_accuracy: 0.9752\n",
      "Epoch 29/30\n",
      "1313/1313 [==============================] - 10s 7ms/step - loss: 0.0072 - accuracy: 0.9974 - val_loss: 0.1899 - val_accuracy: 0.9729\n",
      "Epoch 30/30\n",
      "1313/1313 [==============================] - 8s 6ms/step - loss: 0.0079 - accuracy: 0.9972 - val_loss: 0.1766 - val_accuracy: 0.9748\n"
     ]
    }
   ],
   "source": [
    "# train the model\n",
    "history = model.fit(X_train,y_train,epochs=30,validation_split=0.3)"
   ]
  },
  {
   "cell_type": "code",
   "execution_count": 10,
   "metadata": {
    "colab": {
     "base_uri": "https://localhost:8080/"
    },
    "id": "OyLUmkPGRUve",
    "outputId": "e240741f-f1c9-4bb5-d7b9-a44e25ab7be2"
   },
   "outputs": [
    {
     "name": "stdout",
     "output_type": "stream",
     "text": [
      "313/313 [==============================] - 2s 4ms/step\n"
     ]
    }
   ],
   "source": [
    "# make prediction on x_test\n",
    "y_pb = model.predict(X_test)"
   ]
  },
  {
   "cell_type": "code",
   "execution_count": 11,
   "metadata": {
    "id": "Vr63GEqLRde2"
   },
   "outputs": [],
   "source": [
    "# find prediction\n",
    "y_pred = y_pb.argmax(axis=1)"
   ]
  },
  {
   "cell_type": "code",
   "execution_count": 12,
   "metadata": {
    "colab": {
     "base_uri": "https://localhost:8080/"
    },
    "id": "_hEWkj65RfGV",
    "outputId": "54769335-d466-4379-a267-c7b2c58c0090"
   },
   "outputs": [
    {
     "data": {
      "text/plain": [
       "0.9761"
      ]
     },
     "execution_count": 12,
     "metadata": {},
     "output_type": "execute_result"
    }
   ],
   "source": [
    "# calculate accuracy\n",
    "accuracy_score(y_test,y_pred)"
   ]
  },
  {
   "cell_type": "code",
   "execution_count": 13,
   "metadata": {
    "colab": {
     "base_uri": "https://localhost:8080/",
     "height": 282
    },
    "id": "JobMwFPTRgqj",
    "outputId": "2bbc3eea-b3ed-4b6b-d410-30c0a5b7f636"
   },
   "outputs": [
    {
     "data": {
      "text/plain": [
       "[<matplotlib.lines.Line2D at 0x21884514370>]"
      ]
     },
     "execution_count": 13,
     "metadata": {},
     "output_type": "execute_result"
    },
    {
     "data": {
      "image/png": "[encoded data removed]",
      "text/plain": [
       "<Figure size 640x480 with 1 Axes>"
      ]
     },
     "metadata": {},
     "output_type": "display_data"
    }
   ],
   "source": [
    "# plot traning loss and test loss\n",
    "plt.plot(history.history['loss'])\n",
    "plt.plot(history.history['val_loss'])"
   ]
  },
  {
   "cell_type": "code",
   "execution_count": 14,
   "metadata": {
    "colab": {
     "base_uri": "https://localhost:8080/",
     "height": 282
    },
    "id": "XIo0kqz5Rh74",
    "outputId": "54383ef9-c7dd-436f-93ec-d65a8a3d5d3f"
   },
   "outputs": [
    {
     "data": {
      "text/plain": [
       "[<matplotlib.lines.Line2D at 0x2188454da90>]"
      ]
     },
     "execution_count": 14,
     "metadata": {},
     "output_type": "execute_result"
    },
    {
     "data": {
      "image/png": "[encoded data removed]",
      "text/plain": [
       "<Figure size 640x480 with 1 Axes>"
      ]
     },
     "metadata": {},
     "output_type": "display_data"
    }
   ],
   "source": [
    "# plot traning accuracy and test accuracy\n",
    "plt.plot(history.history['accuracy'])\n",
    "plt.plot(history.history['val_accuracy'])"
   ]
  },
  {
   "cell_type": "code",
   "execution_count": 15,
   "metadata": {
    "id": "L0ZMevDSSIDl"
   },
   "outputs": [],
   "source": [
    "# save the model\n",
    "model.save('mnist_ann.h5')"
   ]
  },
  {
   "cell_type": "code",
   "execution_count": null,
   "metadata": {},
   "outputs": [],
   "source": []
  }
 ],
 "metadata": {
  "colab": {
   "provenance": []
  },
  "kernelspec": {
   "display_name": "docker",
   "language": "python",
   "name": "python3"
  },
  "language_info": {
   "codemirror_mode": {
    "name": "ipython",
    "version": 3
   },
   "file_extension": ".py",
   "mimetype": "text/x-python",
   "name": "python",
   "nbconvert_exporter": "python",
   "pygments_lexer": "ipython3",
   "version": "3.9.15 (main, Nov 24 2022, 14:39:17) [MSC v.1916 64 bit (AMD64)]"
  },
  "vscode": {
   "interpreter": {
    "hash": "3a9610c7b1d09a7d1279d2f4f5054a6e663d5122740368d10dc365bffd136619"
   }
  }
 },
 "nbformat": 4,
 "nbformat_minor": 4
}
